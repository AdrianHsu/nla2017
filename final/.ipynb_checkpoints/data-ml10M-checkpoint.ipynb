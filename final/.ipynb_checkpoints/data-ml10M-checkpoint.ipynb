{
 "cells": [
  {
   "cell_type": "code",
   "execution_count": 1,
   "metadata": {},
   "outputs": [],
   "source": [
    "# http://files.grouplens.org/datasets/movielens/\n",
    "# https://github.com/cuMF/cumf_als/blob/master/data/ml10M/prepare_ml10M_data.py\n",
    "\n",
    "import os\n",
    "import pandas as pd\n",
    "import numpy as np"
   ]
  },
  {
   "cell_type": "code",
   "execution_count": 2,
   "metadata": {},
   "outputs": [],
   "source": [
    "train_raw = open('./dat/r1.train', 'r')"
   ]
  },
  {
   "cell_type": "code",
   "execution_count": 3,
   "metadata": {},
   "outputs": [],
   "source": [
    "# 14575::173::4::828302493\n",
    "# UserId, MovieId, rating, timestamp\n",
    "userId = []\n",
    "movieId = []\n",
    "rating_raw = []\n",
    "for line in train_raw.readlines():\n",
    "    tmp = line.split(\"::\")\n",
    "#     print(tmp)\n",
    "    userId.append(tmp[0])\n",
    "    movieId.append(tmp[1])\n",
    "    rating_raw.append(tmp[2])"
   ]
  },
  {
   "cell_type": "code",
   "execution_count": 4,
   "metadata": {},
   "outputs": [
    {
     "name": "stdout",
     "output_type": "stream",
     "text": [
      "['14575', '14575', '14575', '14575', '14575', '14575', '14575', '14575', '14575', '14575']\n",
      "['173', '188', '196', '208', '216', '223', '225', '227', '231', '234']\n",
      "['4', '4', '4', '4', '4', '3', '3', '3', '3', '3']\n"
     ]
    }
   ],
   "source": [
    "print(userId[0:10])\n",
    "print(movieId[0:10])\n",
    "print(rating_raw[0:10])"
   ]
  },
  {
   "cell_type": "code",
   "execution_count": 5,
   "metadata": {},
   "outputs": [],
   "source": [
    "userID = np.array(userId).astype(np.int)\n",
    "movieID = np.array(movieId).astype(np.int)\n",
    "rating = np.array(rating_raw).astype(np.float)\n",
    "\n",
    "indices = np.arange(userID.shape[0])  \n",
    "np.random.shuffle(indices) \n",
    "userID = userID[indices]\n",
    "movieID = movieID[indices]\n",
    "rating = rating[indices]"
   ]
  },
  {
   "cell_type": "code",
   "execution_count": 7,
   "metadata": {},
   "outputs": [
    {
     "data": {
      "text/plain": [
       "array([60098, 16256, 33718, ..., 69941, 62528, 32331])"
      ]
     },
     "execution_count": 7,
     "metadata": {},
     "output_type": "execute_result"
    }
   ],
   "source": [
    "userID"
   ]
  },
  {
   "cell_type": "code",
   "execution_count": 13,
   "metadata": {},
   "outputs": [
    {
     "name": "stdout",
     "output_type": "stream",
     "text": [
      "71567\n",
      "14575\n",
      "65133\n",
      "1\n"
     ]
    }
   ],
   "source": [
    "print(np.max(userID))\n",
    "print(np.min(userID))\n",
    "print(np.max(movieID))\n",
    "print(np.min(movieID))"
   ]
  },
  {
   "cell_type": "code",
   "execution_count": 23,
   "metadata": {},
   "outputs": [],
   "source": [
    "# shift_userID = userID - 14575\n",
    "# shift_movieID = movieID - 1\n"
   ]
  },
  {
   "cell_type": "code",
   "execution_count": 30,
   "metadata": {},
   "outputs": [],
   "source": [
    "import scipy\n",
    "from scipy import sparse, io"
   ]
  },
  {
   "cell_type": "code",
   "execution_count": 25,
   "metadata": {},
   "outputs": [
    {
     "name": "stdout",
     "output_type": "stream",
     "text": [
      "  (0, 0)\t1\n",
      "  (0, 2)\t2\n",
      "  (1, 2)\t3\n",
      "  (2, 0)\t4\n",
      "  (2, 1)\t5\n",
      "  (2, 2)\t6\n"
     ]
    }
   ],
   "source": [
    "row = np.array([0, 0, 1, 2, 2, 2])\n",
    "col = np.array([0, 2, 2, 0, 1, 2])\n",
    "data = np.array([1, 2, 3, 4, 5, 6])\n",
    "mtx = sparse.csr_matrix((data, (row, col)), shape=(3, 3))\n",
    "print(mtx)     "
   ]
  },
  {
   "cell_type": "code",
   "execution_count": 26,
   "metadata": {},
   "outputs": [],
   "source": [
    "row = np.array(userID)\n",
    "col = np.array(movieID)\n",
    "data = np.array(rating)\n",
    "mtx = sparse.csr_matrix((data, (row,col)))"
   ]
  },
  {
   "cell_type": "code",
   "execution_count": 27,
   "metadata": {},
   "outputs": [
    {
     "name": "stdout",
     "output_type": "stream",
     "text": [
      "  (14575, 173)\t4.0\n",
      "  (14575, 188)\t4.0\n",
      "  (14575, 196)\t4.0\n",
      "  (14575, 208)\t4.0\n",
      "  (14575, 216)\t4.0\n",
      "  (14575, 223)\t3.0\n",
      "  (14575, 225)\t3.0\n",
      "  (14575, 227)\t3.0\n",
      "  (14575, 231)\t3.0\n",
      "  (14575, 234)\t3.0\n",
      "  (14575, 253)\t4.0\n",
      "  (14575, 273)\t5.0\n",
      "  (14575, 280)\t5.0\n",
      "  (14575, 288)\t4.0\n",
      "  (14575, 292)\t5.0\n",
      "  (14575, 296)\t5.0\n",
      "  (14575, 316)\t5.0\n",
      "  (14575, 318)\t5.0\n",
      "  (14575, 329)\t4.0\n",
      "  (14575, 344)\t4.0\n",
      "  (14575, 410)\t4.0\n",
      "  (14575, 413)\t4.0\n",
      "  (14575, 421)\t4.0\n",
      "  (14575, 427)\t4.0\n",
      "  (14575, 431)\t4.0\n",
      "  :\t:\n",
      "  (71567, 1598)\t2.0\n",
      "  (71567, 1690)\t3.0\n",
      "  (71567, 1717)\t1.0\n",
      "  (71567, 1721)\t4.0\n",
      "  (71567, 1748)\t3.0\n",
      "  (71567, 1769)\t3.0\n",
      "  (71567, 1792)\t2.0\n",
      "  (71567, 1805)\t4.0\n",
      "  (71567, 1833)\t3.0\n",
      "  (71567, 1876)\t3.0\n",
      "  (71567, 1909)\t2.0\n",
      "  (71567, 1917)\t4.0\n",
      "  (71567, 1920)\t4.0\n",
      "  (71567, 1982)\t1.0\n",
      "  (71567, 1983)\t1.0\n",
      "  (71567, 1984)\t1.0\n",
      "  (71567, 1985)\t1.0\n",
      "  (71567, 1986)\t1.0\n",
      "  (71567, 2012)\t3.0\n",
      "  (71567, 2028)\t5.0\n",
      "  (71567, 2107)\t1.0\n",
      "  (71567, 2126)\t4.0\n",
      "  (71567, 2294)\t10.0\n",
      "  (71567, 2338)\t4.0\n",
      "  (71567, 2384)\t4.0\n"
     ]
    }
   ],
   "source": [
    "print(mtx)\n",
    "#   (71567, 2294)\t10.0 ???"
   ]
  },
  {
   "cell_type": "code",
   "execution_count": 29,
   "metadata": {},
   "outputs": [
    {
     "data": {
      "text/plain": [
       "scipy.sparse.csr.csr_matrix"
      ]
     },
     "execution_count": 29,
     "metadata": {},
     "output_type": "execute_result"
    }
   ],
   "source": [
    "type(mtx)"
   ]
  },
  {
   "cell_type": "code",
   "execution_count": 31,
   "metadata": {},
   "outputs": [],
   "source": [
    "io.mmwrite(\"train.mtx\", mtx)"
   ]
  },
  {
   "cell_type": "code",
   "execution_count": 34,
   "metadata": {},
   "outputs": [],
   "source": [
    "import time"
   ]
  },
  {
   "cell_type": "code",
   "execution_count": 37,
   "metadata": {},
   "outputs": [
    {
     "name": "stdout",
     "output_type": "stream",
     "text": [
      "8.58306884765625e-05\n"
     ]
    }
   ],
   "source": [
    "start = time.time()\n",
    "#your code here    \n",
    "print(time.time() - start)"
   ]
  },
  {
   "cell_type": "code",
   "execution_count": null,
   "metadata": {},
   "outputs": [],
   "source": []
  }
 ],
 "metadata": {
  "kernelspec": {
   "display_name": "Python 3",
   "language": "python",
   "name": "python3"
  },
  "language_info": {
   "codemirror_mode": {
    "name": "ipython",
    "version": 3
   },
   "file_extension": ".py",
   "mimetype": "text/x-python",
   "name": "python",
   "nbconvert_exporter": "python",
   "pygments_lexer": "ipython3",
   "version": "3.6.0"
  }
 },
 "nbformat": 4,
 "nbformat_minor": 2
}
